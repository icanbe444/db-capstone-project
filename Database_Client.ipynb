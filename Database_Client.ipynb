{
 "cells": [
  {
   "cell_type": "code",
   "execution_count": 1,
   "id": "19e70280-dc90-4537-963d-280a8244dc9b",
   "metadata": {},
   "outputs": [],
   "source": [
    "import mysql.connector as connector"
   ]
  },
  {
   "cell_type": "code",
   "execution_count": 31,
   "id": "c2b93d42-0268-49bd-92d7-a8d4fb5e40db",
   "metadata": {},
   "outputs": [],
   "source": [
    "from mysql.connector import Error"
   ]
  },
  {
   "cell_type": "code",
   "execution_count": 40,
   "id": "a66d71ed-6a05-43b1-80d4-1fe5afe326f5",
   "metadata": {},
   "outputs": [],
   "source": [
    "connection = connector.connect(user = \"admin\", password = \"1234567890!\", db = \"LittleLemonDM\")"
   ]
  },
  {
   "cell_type": "code",
   "execution_count": 41,
   "id": "9a4c89e5-ac7d-4d19-84f4-612ccf266da9",
   "metadata": {},
   "outputs": [],
   "source": [
    "cursor = connection.cursor()"
   ]
  },
  {
   "cell_type": "code",
   "execution_count": 42,
   "id": "b4dcde62-a9c0-44a7-8e06-4f9cc66f5b17",
   "metadata": {},
   "outputs": [],
   "source": [
    "cursor.execute(\"SHOW tables\" )"
   ]
  },
  {
   "cell_type": "code",
   "execution_count": 43,
   "id": "ef4734ca-566d-4b03-9bf7-b71e18148ceb",
   "metadata": {},
   "outputs": [],
   "source": [
    "results = cursor.fetchall()"
   ]
  },
  {
   "cell_type": "code",
   "execution_count": 45,
   "id": "205e7199-edb4-4e12-89d2-88b438f506f0",
   "metadata": {},
   "outputs": [
    {
     "name": "stdout",
     "output_type": "stream",
     "text": [
      "[('Booking',), ('Customer',), ('Menu',), ('Menuitems',), ('Order_delivery_status',), ('Orders',), ('Staff',), ('TableBookings',)]\n"
     ]
    }
   ],
   "source": [
    "print(results)"
   ]
  },
  {
   "cell_type": "code",
   "execution_count": 71,
   "id": "b561d7e6-e56a-4b5b-8303-f91e80dbb3f1",
   "metadata": {},
   "outputs": [],
   "source": [
    "query_with_join = \"\"\"SELECT Orders.TotalCost, Customer.FullName, Customer.Contact FROM Orders \n",
    "INNER JOIN Customer ON Orders.CustomerID = Customer.CustomerID WHERE Orders.TotalCost > 60;\"\"\""
   ]
  },
  {
   "cell_type": "code",
   "execution_count": 72,
   "id": "c57d41f7-afa8-48e5-80d4-182d7d1862c9",
   "metadata": {},
   "outputs": [
    {
     "name": "stdout",
     "output_type": "stream",
     "text": [
      "[(Decimal('10'), 'Mario Gollini', '724, Parsley Lane, Old Town, Chicago, IL'), (Decimal('10'), 'Adrian Gollini', '334, Dill Square, Lincoln Park, Chicago, IL'), (Decimal('10'), 'Mario Gollini', '724, Parsley Lane, Old Town, Chicago, IL')]\n",
      "[(Decimal('10'), 'Mario Gollini', '724, Parsley Lane, Old Town, Chicago, IL'), (Decimal('10'), 'Adrian Gollini', '334, Dill Square, Lincoln Park, Chicago, IL'), (Decimal('10'), 'Mario Gollini', '724, Parsley Lane, Old Town, Chicago, IL')]\n",
      "[(Decimal('10'), 'Mario Gollini', '724, Parsley Lane, Old Town, Chicago, IL'), (Decimal('10'), 'Adrian Gollini', '334, Dill Square, Lincoln Park, Chicago, IL'), (Decimal('10'), 'Mario Gollini', '724, Parsley Lane, Old Town, Chicago, IL')]\n"
     ]
    }
   ],
   "source": [
    "cursor.execute(query_with_join )\n",
    "results = cursor.fetchall()\n",
    "columns=cursor.column_names\n",
    "for result in results:\n",
    "    print(results)"
   ]
  },
  {
   "cell_type": "code",
   "execution_count": null,
   "id": "bd962609-152b-4667-847e-ccaf867fe6d8",
   "metadata": {},
   "outputs": [],
   "source": []
  }
 ],
 "metadata": {
  "kernelspec": {
   "display_name": "Python 3 (ipykernel)",
   "language": "python",
   "name": "python3"
  },
  "language_info": {
   "codemirror_mode": {
    "name": "ipython",
    "version": 3
   },
   "file_extension": ".py",
   "mimetype": "text/x-python",
   "name": "python",
   "nbconvert_exporter": "python",
   "pygments_lexer": "ipython3",
   "version": "3.11.3"
  }
 },
 "nbformat": 4,
 "nbformat_minor": 5
}
